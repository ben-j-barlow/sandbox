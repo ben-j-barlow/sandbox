{
 "cells": [
  {
   "cell_type": "code",
   "execution_count": 7,
   "metadata": {},
   "outputs": [
    {
     "name": "stdout",
     "output_type": "stream",
     "text": [
      "   K1  K2  K3  K4  K5  K6  K7  K8  K9  K10  ...  K14  K15  K16  K17  K18  K19  \\\n",
      "0   0   0   1   0   2   0   0   1   8    1  ...    1    1    5    7    7    7   \n",
      "1   0   0   1   2   1   0   2   4   7    4  ...    4    4   15   11   11   11   \n",
      "2   0   0   1   2   1   0   2   4   7    4  ...    4    4   15   10   10   10   \n",
      "3   0   0   1   2   1   0   2   4   7    4  ...    4    4   15    0    0    0   \n",
      "4   0   0   1   0   2   0   0   1   8    1  ...    1    1    5    7    7    7   \n",
      "\n",
      "   K20  K21  K22  K23  \n",
      "0   19    2    5   22  \n",
      "1    7   16   17   17  \n",
      "2    7    7   15   15  \n",
      "3   16   19   15   15  \n",
      "4   19    2    5   22  \n",
      "\n",
      "[5 rows x 23 columns]\n"
     ]
    },
    {
     "ename": "KeyError",
     "evalue": "'res'",
     "output_type": "error",
     "traceback": [
      "\u001B[0;31m---------------------------------------------------------------------------\u001B[0m",
      "\u001B[0;31mKeyError\u001B[0m                                  Traceback (most recent call last)",
      "Cell \u001B[0;32mIn[7], line 25\u001B[0m\n\u001B[1;32m     21\u001B[0m     data_final[col]\u001B[39m=\u001B[39my_km\n\u001B[1;32m     23\u001B[0m \u001B[39mprint\u001B[39m(data_final\u001B[39m.\u001B[39mhead())\n\u001B[0;32m---> 25\u001B[0m ct \u001B[39m=\u001B[39m clustree(data\u001B[39m=\u001B[39;49mdata_final,\n\u001B[1;32m     26\u001B[0m               prefix\u001B[39m=\u001B[39;49m\u001B[39m\"\u001B[39;49m\u001B[39mK\u001B[39;49m\u001B[39m\"\u001B[39;49m,\n\u001B[1;32m     27\u001B[0m               draw\u001B[39m=\u001B[39;49m\u001B[39mTrue\u001B[39;49;00m,\n\u001B[1;32m     28\u001B[0m               output_path\u001B[39m=\u001B[39;49m\u001B[39m\"\u001B[39;49m\u001B[39mC:\u001B[39;49m\u001B[39m\\\\\u001B[39;49;00m\u001B[39mUsers\u001B[39;49m\u001B[39m\\\\\u001B[39;49;00m\u001B[39mG\u001B[39;49m\u001B[39m\\\\\u001B[39;49;00m\u001B[39mPycharmProjects\u001B[39;49m\u001B[39m\\\\\u001B[39;49;00m\u001B[39mS_T_Error\u001B[39;49m\u001B[39m\\\\\u001B[39;49;00m\u001B[39mClusTree\u001B[39;49m\u001B[39m\"\u001B[39;49m,\n\u001B[1;32m     29\u001B[0m               images\u001B[39m=\u001B[39;49m\u001B[39m\"\u001B[39;49m\u001B[39mC:\u001B[39;49m\u001B[39m\\\\\u001B[39;49;00m\u001B[39mUsers\u001B[39;49m\u001B[39m\\\\\u001B[39;49;00m\u001B[39mG\u001B[39;49m\u001B[39m\\\\\u001B[39;49;00m\u001B[39mPycharmProjects\u001B[39;49m\u001B[39m\\\\\u001B[39;49;00m\u001B[39mS_T_Error\u001B[39;49m\u001B[39m\\\\\u001B[39;49;00m\u001B[39mClusTree\u001B[39;49m\u001B[39m\"\u001B[39;49m)\n",
      "File \u001B[0;32m~/dev/sandbox/.venv/lib/python3.9/site-packages/clustree/_graph.py:152\u001B[0m, in \u001B[0;36mclustree\u001B[0;34m(data, prefix, images, output_path, draw, node_color, node_color_aggr, node_cmap, edge_color, edge_cmap, orientation, layout_reingold_tilford, min_cluster_number, border_size, figsize, arrows, node_size, node_size_edge, dpi, kk)\u001B[0m\n\u001B[1;32m    149\u001B[0m     \u001B[39mif\u001B[39;00m kk \u001B[39m<\u001B[39m \u001B[39m13\u001B[39m:\n\u001B[1;32m    150\u001B[0m         layout_reingold_tilford \u001B[39m=\u001B[39m \u001B[39mTrue\u001B[39;00m\n\u001B[0;32m--> 152\u001B[0m config \u001B[39m=\u001B[39m ClustreeConfig(\n\u001B[1;32m    153\u001B[0m     prefix\u001B[39m=\u001B[39;49mprefix,\n\u001B[1;32m    154\u001B[0m     kk\u001B[39m=\u001B[39;49mkk,\n\u001B[1;32m    155\u001B[0m     data\u001B[39m=\u001B[39;49m_data,\n\u001B[1;32m    156\u001B[0m     node_color\u001B[39m=\u001B[39;49mnode_color,\n\u001B[1;32m    157\u001B[0m     node_color_aggr\u001B[39m=\u001B[39;49mnode_color_aggr,\n\u001B[1;32m    158\u001B[0m     node_cmap\u001B[39m=\u001B[39;49mnode_cmap,\n\u001B[1;32m    159\u001B[0m     edge_color\u001B[39m=\u001B[39;49medge_color,\n\u001B[1;32m    160\u001B[0m     edge_cmap\u001B[39m=\u001B[39;49medge_cmap,\n\u001B[1;32m    161\u001B[0m     start_at_1\u001B[39m=\u001B[39;49mstart_at_1,\n\u001B[1;32m    162\u001B[0m )\n\u001B[1;32m    164\u001B[0m dg \u001B[39m=\u001B[39m construct_clustree(cf\u001B[39m=\u001B[39mconfig)\n\u001B[1;32m    165\u001B[0m \u001B[39mif\u001B[39;00m draw \u001B[39mor\u001B[39;00m output_path:\n",
      "File \u001B[0;32m~/dev/sandbox/.venv/lib/python3.9/site-packages/clustree/_config.py:73\u001B[0m, in \u001B[0;36mClustreeConfig.__init__\u001B[0;34m(self, kk, data, prefix, node_color, node_color_aggr, node_cmap, edge_color, edge_cmap, start_at_1, _setup_cf)\u001B[0m\n\u001B[1;32m     71\u001B[0m     \u001B[39mself\u001B[39m\u001B[39m.\u001B[39mset_sample_information(data\u001B[39m=\u001B[39mcluster_membership)\n\u001B[1;32m     72\u001B[0m \u001B[39mif\u001B[39;00m _setup_cf[\u001B[39m\"\u001B[39m\u001B[39mnode_color\u001B[39m\u001B[39m\"\u001B[39m]:\n\u001B[0;32m---> 73\u001B[0m     \u001B[39mself\u001B[39;49m\u001B[39m.\u001B[39;49mset_node_color(\n\u001B[1;32m     74\u001B[0m         node_color\u001B[39m=\u001B[39;49mnode_color,\n\u001B[1;32m     75\u001B[0m         aggr\u001B[39m=\u001B[39;49mnode_color_aggr,\n\u001B[1;32m     76\u001B[0m         cmap\u001B[39m=\u001B[39;49mnode_cmap,\n\u001B[1;32m     77\u001B[0m         prefix\u001B[39m=\u001B[39;49mprefix,\n\u001B[1;32m     78\u001B[0m         data\u001B[39m=\u001B[39;49mdata,\n\u001B[1;32m     79\u001B[0m     )\n\u001B[1;32m     80\u001B[0m \u001B[39mif\u001B[39;00m _setup_cf[\u001B[39m\"\u001B[39m\u001B[39medge_color\u001B[39m\u001B[39m\"\u001B[39m]:\n\u001B[1;32m     81\u001B[0m     \u001B[39mself\u001B[39m\u001B[39m.\u001B[39mset_edge_color(edge_color\u001B[39m=\u001B[39medge_color, cmap\u001B[39m=\u001B[39medge_cmap, prefix\u001B[39m=\u001B[39mprefix)\n",
      "File \u001B[0;32m~/dev/sandbox/.venv/lib/python3.9/site-packages/clustree/_config.py:151\u001B[0m, in \u001B[0;36mClustreeConfig.set_node_color\u001B[0;34m(self, node_color, cmap, aggr, data, prefix)\u001B[0m\n\u001B[1;32m    148\u001B[0m \u001B[39mif\u001B[39;00m node_color \u001B[39m==\u001B[39m prefix:\n\u001B[1;32m    149\u001B[0m     \u001B[39mfor\u001B[39;00m node_id, attr \u001B[39min\u001B[39;00m \u001B[39mself\u001B[39m\u001B[39m.\u001B[39mnode_cf\u001B[39m.\u001B[39mitems():\n\u001B[1;32m    150\u001B[0m         \u001B[39mself\u001B[39m\u001B[39m.\u001B[39mnode_cf[node_id][\u001B[39m\"\u001B[39m\u001B[39mnode_color\u001B[39m\u001B[39m\"\u001B[39m] \u001B[39m=\u001B[39m mpl\u001B[39m.\u001B[39mcolors\u001B[39m.\u001B[39mto_rgba(\n\u001B[0;32m--> 151\u001B[0m             \u001B[39mf\u001B[39m\u001B[39m\"\u001B[39m\u001B[39mC\u001B[39m\u001B[39m{\u001B[39;00mattr[\u001B[39m'\u001B[39m\u001B[39mres\u001B[39m\u001B[39m'\u001B[39m]\u001B[39m}\u001B[39;00m\u001B[39m\"\u001B[39m\n\u001B[1;32m    152\u001B[0m         )\n\u001B[1;32m    153\u001B[0m \u001B[39melif\u001B[39;00m (use_samples \u001B[39m:=\u001B[39m node_color \u001B[39m==\u001B[39m \u001B[39m\"\u001B[39m\u001B[39msamples\u001B[39m\u001B[39m\"\u001B[39m) \u001B[39mor\u001B[39;00m (node_color \u001B[39min\u001B[39;00m data\u001B[39m.\u001B[39mcolumns):\n\u001B[1;32m    154\u001B[0m     \u001B[39m# create to_parse = {node_id: value}\u001B[39;00m\n\u001B[1;32m    155\u001B[0m     \u001B[39mif\u001B[39;00m use_samples:\n",
      "\u001B[0;31mKeyError\u001B[0m: 'res'"
     ]
    }
   ],
   "source": [
    "from sklearn import datasets\n",
    "import pandas as pd\n",
    "from clustree import clustree\n",
    "from sklearn.cluster import KMeans\n",
    "\n",
    "data = datasets.load_iris()\n",
    "X = data.data[:, :2]\n",
    "y = data.target\n",
    "\n",
    "data_final = pd.DataFrame()\n",
    "\n",
    "\n",
    "for k in range(1, 24):\n",
    "    km = KMeans(\n",
    "        n_clusters=k, init='random',\n",
    "        n_init=10, max_iter=300,\n",
    "        tol=1e-04, random_state=0\n",
    "    )\n",
    "    y_km = km.fit_predict(X=X, y=y)\n",
    "    col = \"K\" + str(k)\n",
    "    data_final[col]=y_km\n",
    "\n",
    "print(data_final.head())\n",
    "\n",
    "ct = clustree(data=data_final,\n",
    "              prefix=\"K\",\n",
    "              draw=True,\n",
    "              output_path=\"C:\\\\Users\\\\G\\\\PycharmProjects\\\\S_T_Error\\\\ClusTree\",\n",
    "              images=\"C:\\\\Users\\\\G\\\\PycharmProjects\\\\S_T_Error\\\\ClusTree\")"
   ]
  }
 ],
 "metadata": {
  "kernelspec": {
   "display_name": ".venv",
   "language": "python",
   "name": "python3"
  },
  "language_info": {
   "codemirror_mode": {
    "name": "ipython",
    "version": 3
   },
   "file_extension": ".py",
   "mimetype": "text/x-python",
   "name": "python",
   "nbconvert_exporter": "python",
   "pygments_lexer": "ipython3",
   "version": "3.9.6"
  },
  "orig_nbformat": 4
 },
 "nbformat": 4,
 "nbformat_minor": 2
}
