{
 "cells": [
  {
   "cell_type": "code",
   "execution_count": 46,
   "metadata": {
    "collapsed": true
   },
   "outputs": [],
   "source": [
    "import matplotlib as mpl\n",
    "import matplotlib.pyplot as plt\n",
    "import pandas as pd\n",
    "import PIL\n",
    "import networkx as nx\n",
    "from matplotlib.patches import Circle\n",
    "import numpy as np\n",
    "from typing import Literal"
   ]
  },
  {
   "cell_type": "code",
   "execution_count": 2,
   "metadata": {},
   "outputs": [],
   "source": [
    "ind = {f'{k_upper}_{k_lower}' for k_upper in range(1, 4) for k_lower in range(1, 4) if k_lower <= k_upper}\n",
    "imgs = {\n",
    "    key: PIL.Image.open(f'/Users/benbarlow/dev/clustree/tests/data/input/{key}.png')\n",
    "    for key in ind\n",
    "}"
   ]
  },
  {
   "cell_type": "code",
   "execution_count": 4,
   "metadata": {},
   "outputs": [],
   "source": [
    "dg = nx.DiGraph()\n",
    "dg.add_edge(1, 2)   # adds nodes 2 and 1, i.e. no need to use add_node()\n",
    "dg.add_edge(1, 3)\n",
    "dg.nodes[1][\"res\"] = 1\n",
    "dg.nodes[2][\"res\"] = 2\n",
    "dg.nodes[3][\"res\"] = 2"
   ]
  },
  {
   "cell_type": "code",
   "execution_count": 5,
   "metadata": {},
   "outputs": [],
   "source": [
    "pos = nx.multipartite_layout(dg, \"res\", align=\"horizontal\")"
   ]
  },
  {
   "cell_type": "code",
   "execution_count": 6,
   "metadata": {},
   "outputs": [],
   "source": [
    "x_vals, y_vals = [v[0] for k, v in pos.items()], [v[1] for k, v in pos.items()]\n",
    "min_y, max_y = min(y_vals), max(y_vals)\n",
    "min_x, max_x = min(x_vals), max(x_vals)\n",
    "\n",
    "norm_x = [(x - min_x) / (max_x - min_x) for x in x_vals]\n",
    "norm_y = [(y - min_y) / (max_y - min_y) for y in y_vals]\n",
    "pos = {k: (x, 1 - y) for k, x, y in zip(list(pos.keys()), norm_x, norm_y)}"
   ]
  },
  {
   "cell_type": "code",
   "execution_count": 7,
   "metadata": {},
   "outputs": [
    {
     "data": {
      "text/plain": [
       "{1: (0.5, 1.0), 3: (0.0, 0.0), 2: (1.0, 0.0)}"
      ]
     },
     "execution_count": 7,
     "metadata": {},
     "output_type": "execute_result"
    }
   ],
   "source": [
    "pos"
   ]
  },
  {
   "cell_type": "code",
   "execution_count": 8,
   "metadata": {},
   "outputs": [],
   "source": [
    "def get_pixels(fig):\n",
    "    dpi = fig.get_dpi()\n",
    "    width, height = fig.get_size_inches()\n",
    "    pixels_width, pixels_height = int(width * dpi), int(height * dpi)\n",
    "    print(f\"Number of pixels: {pixels_width} x {pixels_height}\")\n",
    "\n",
    "def get_dpi(fig):\n",
    "    dpi = fig.get_dpi()\n",
    "    print(f\"Figure dpi: {dpi}\")\n",
    "\n",
    "def get_size(fig):\n",
    "    width, height = fig.get_size_inches()\n",
    "    print(f\"Figure size: {width} x {height} inches\")\n",
    "\n",
    "def get_fig_info(info, fig=None):\n",
    "    if not fig:\n",
    "        fig = plt.gcf()\n",
    "    if info == \"pixels\":\n",
    "        get_pixels(fig)\n",
    "    elif info == \"size\":\n",
    "        get_size(fig)\n",
    "    elif info == \"dpi\":\n",
    "        get_dpi(fig)\n",
    "\n",
    "def data_to_disp(coord):\n",
    "    ax = plt.gca()\n",
    "    return ax.transData.transform(coord)\n",
    "\n",
    "def disp_to_data(coord):\n",
    "    ax = plt.gca()\n",
    "    return ax.transData.inverted().transform(coord)\n",
    "\n",
    "def fig_to_disp(coord):\n",
    "    fig = plt.gcf()\n",
    "    return fig.transFigure.transform(coord)\n",
    "\n",
    "def disp_to_fig(coord):\n",
    "    fig = plt.gcf()\n",
    "    return fig.transFigure.inverted().transform(coord)\n",
    "\n",
    "def ax_to_disp(coord):\n",
    "    ax = plt.gca()\n",
    "    ax.transAxes.transform(coord)\n",
    "    \n",
    "def disp_to_ax(coord):\n",
    "    ax = plt.gca()\n",
    "    ax.transAxes.inverted().transform(coord)"
   ]
  },
  {
   "cell_type": "code",
   "execution_count": 9,
   "metadata": {},
   "outputs": [],
   "source": [
    "pos_1000 = {k: (x * 1000, y * 1000) for k, (x, y) in pos.items()}"
   ]
  },
  {
   "cell_type": "code",
   "execution_count": 16,
   "metadata": {},
   "outputs": [
    {
     "name": "stderr",
     "output_type": "stream",
     "text": [
      "/var/folders/7y/2xjb3t2n09d1ns7_wfm4kc4w0000gn/T/ipykernel_4875/331000536.py:20: UserWarning: Matplotlib is currently using module://matplotlib_inline.backend_inline, which is a non-GUI backend, so cannot show the figure.\n",
      "  fig.show()\n"
     ]
    },
    {
     "data": {
      "image/png": "[encoded data removed]",
      "text/plain": [
       "<Figure size 900x900 with 1 Axes>"
      ]
     },
     "metadata": {},
     "output_type": "display_data"
    }
   ],
   "source": [
    "# par: multiplier of node size\n",
    "\n",
    "fig_sz = 9\n",
    "fig, ax = plt.subplots(\n",
    "    figsize=(fig_sz,fig_sz),\n",
    "    dpi=100\n",
    ")\n",
    "# plot image (use multiplier)\n",
    "\n",
    "node_size_relative = fig_sz * 200\n",
    "nx.draw_networkx_edges(dg, pos_1000, ax=ax, node_shape='s', node_size=default_node_size * multiplier)\n",
    "#nx.draw_networkx_nodes(dg, pos_1000, ax=ax, node_shape='s', node_size=node_size_relative)\n",
    "pxl_x = 400\n",
    "pxl_y = 400\n",
    "\n",
    "circle = Circle((0, 0), 0.01, facecolor='red', edgecolor='black', zorder=10)\n",
    "ax.add_patch(circle)\n",
    "\n",
    "ax.imshow(imgs['1_1'], origin=\"lower\", extent=[0, 50, 0, 50])\n",
    "#ax.axis(\"off\")\n",
    "\n",
    "ax.autoscale()\n",
    "fig.show()"
   ]
  },
  {
   "cell_type": "code",
   "execution_count": 11,
   "metadata": {},
   "outputs": [
    {
     "name": "stdout",
     "output_type": "stream",
     "text": [
      "Figure size: 6.4 x 4.8 inches\n"
     ]
    },
    {
     "data": {
      "text/plain": [
       "<Figure size 640x480 with 0 Axes>"
      ]
     },
     "metadata": {},
     "output_type": "display_data"
    }
   ],
   "source": [
    "get_fig_info(\"size\")"
   ]
  },
  {
   "cell_type": "code",
   "execution_count": 12,
   "metadata": {},
   "outputs": [
    {
     "name": "stdout",
     "output_type": "stream",
     "text": [
      "Number of pixels: 640 x 480\n"
     ]
    },
    {
     "data": {
      "text/plain": [
       "<Figure size 640x480 with 0 Axes>"
      ]
     },
     "metadata": {},
     "output_type": "display_data"
    }
   ],
   "source": [
    "get_fig_info(\"pixels\")"
   ]
  },
  {
   "cell_type": "code",
   "execution_count": 13,
   "metadata": {},
   "outputs": [
    {
     "name": "stdout",
     "output_type": "stream",
     "text": [
      "Figure dpi: 100.0\n"
     ]
    },
    {
     "data": {
      "text/plain": [
       "<Figure size 640x480 with 0 Axes>"
      ]
     },
     "metadata": {},
     "output_type": "display_data"
    }
   ],
   "source": [
    "get_fig_info(\"dpi\")"
   ]
  },
  {
   "cell_type": "code",
   "execution_count": 19,
   "metadata": {},
   "outputs": [
    {
     "data": {
      "text/plain": [
       "dict_keys(['2_1', '2_2', '3_1', '1_1', '3_3', '3_2'])"
      ]
     },
     "execution_count": 19,
     "metadata": {},
     "output_type": "execute_result"
    }
   ],
   "source": [
    "imgs.keys()"
   ]
  },
  {
   "cell_type": "code",
   "execution_count": 48,
   "metadata": {},
   "outputs": [
    {
     "data": {
      "image/png": "[encoded data removed]",
      "text/plain": [
       "<Figure size 800x800 with 1 Axes>"
      ]
     },
     "metadata": {},
     "output_type": "display_data"
    }
   ],
   "source": [
    "# create two example images\n",
    "img1 = np.full((30, 30), 150)\n",
    "img2 = np.full((30, 30), 55)\n",
    "\n",
    "# create a figure with a single axes\n",
    "fig, ax = plt.subplots(1, 1, figsize=(8, 8))\n",
    "\n",
    "# plot the first image using .imshow() and set its location using extent\n",
    "ax.imshow(img1, cmap='gray', extent=[0, 0.2, 0, 0.2])\n",
    "\n",
    "# plot the second image using .imshow() and set its location using extent\n",
    "ax.imshow(img2, cmap='hot', extent=[0.8, 1, 0.8, 1], vmin=50, vmax=60)\n",
    "\n",
    "radius = 0.02\n",
    "# tblr in pos\n",
    "circle = plt.Circle(np.array((1 - radius, 1 - radius)), radius=radius, fill=True, color=\"red\")\n",
    "ax.add_artist(circle)\n",
    "\n",
    "\n",
    "# set the x and y axis limits to show the whole images\n",
    "ax.set_xlim([0, 1])\n",
    "ax.set_ylim([1, 0])\n",
    "\n",
    "# show the figure\n",
    "plt.show()"
   ]
  },
  {
   "cell_type": "code",
   "execution_count": 84,
   "metadata": {},
   "outputs": [],
   "source": [
    "def get_circle_centre_relative(radius, pos):\n",
    "    \"\"\"\n",
    "    Centre with x,y in (0,1) interval.\n",
    "    \"\"\"\n",
    "    pos_dict = {\n",
    "        'tl': (radius, 1 - radius),\n",
    "        't': (0.5, 1 - radius),\n",
    "        'tr': (1 - radius, 1 - radius),\n",
    "        'l': (radius, 0.5),\n",
    "        'r': (1 - radius, 0.5),\n",
    "        'bl': (radius, radius),\n",
    "        'b': (0.5, radius),\n",
    "        'br': (1 - radius, radius)\n",
    "    }\n",
    "    center = np.array(pos_dict[pos])\n",
    "    return center\n",
    "\n",
    "def get_circle_centre(radius: float, pos: Literal['tl', 't', 'tr', 'l', 'r', 'bl', 'b', 'br'], bl_anchor: tuple[float, float], length: float) -> tuple[float, float]:\n",
    "    b, l = bl_anchor\n",
    "    r, t = l + length, b + length\n",
    "    pos_dict = {\n",
    "        'tl': (l + radius, t - radius),\n",
    "        't': (l + (length / 2), t - radius),\n",
    "        'tr': (r - radius, t - radius),\n",
    "        'l': (l + radius, b + (length / 2)),\n",
    "        'r': (r - radius, b + (length / 2)),\n",
    "        'bl': (l + radius, b + radius),\n",
    "        'b': (l + (length / 2), b + radius),\n",
    "        'br': (r - radius, b + radius)\n",
    "    }\n",
    "    return pos_dict[pos]"
   ]
  },
  {
   "cell_type": "code",
   "execution_count": 38,
   "metadata": {},
   "outputs": [],
   "source": [
    "def get_extent(bl_anchor, length):\n",
    "    return [bl_anchor[0], bl_anchor[0] + length, bl_anchor[1], bl_anchor[1] + length]"
   ]
  },
  {
   "cell_type": "code",
   "execution_count": 71,
   "metadata": {},
   "outputs": [],
   "source": [
    "bl_anchor = (0, 0)"
   ]
  },
  {
   "cell_type": "code",
   "execution_count": 72,
   "metadata": {},
   "outputs": [
    {
     "data": {
      "text/plain": [
       "array([0.18, 0.18])"
      ]
     },
     "execution_count": 72,
     "metadata": {},
     "output_type": "execute_result"
    }
   ],
   "source": [
    "get_circle_centre(radius=radius, pos='tr', bl_anchor=bl_anchor, length=length)"
   ]
  },
  {
   "cell_type": "code",
   "execution_count": 89,
   "metadata": {},
   "outputs": [
    {
     "data": {
      "image/png": "[encoded data removed]",
      "text/plain": [
       "<Figure size 800x800 with 1 Axes>"
      ]
     },
     "metadata": {},
     "output_type": "display_data"
    }
   ],
   "source": [
    "img1 = imgs['1_1']\n",
    "img2 = imgs['2_1']\n",
    "\n",
    "length = 0.2\n",
    "\n",
    "# create a figure with a single axes\n",
    "fig, ax = plt.subplots(1, 1, figsize=(8, 8))\n",
    "\n",
    "# plot the first image using .imshow() and set its location using extent\n",
    "bl_anchor = (0, 0)\n",
    "ax.imshow(img1, extent=get_extent(bl_anchor=bl_anchor, length=length))\n",
    "\n",
    "\n",
    "# plot the second image using .imshow() and set its location using extent\n",
    "bl_anchor = (0.8, 0.8)\n",
    "ax.imshow(img2, extent=get_extent(bl_anchor=bl_anchor, length=length))\n",
    "circle = plt.Circle((\n",
    "    get_circle_centre(radius=radius, pos='tl', bl_anchor=bl_anchor, length=length)),\n",
    "    radius=radius,\n",
    "    fill=True,\n",
    "    color=\"red\"\n",
    ")\n",
    "ax.add_artist(circle)\n",
    "\n",
    "ax.set_xlim([0, 1])\n",
    "ax.set_ylim([0, 1])\n",
    "\n",
    "plt.show()"
   ]
  },
  {
   "cell_type": "code",
   "execution_count": 90,
   "metadata": {},
   "outputs": [
    {
     "ename": "NameError",
     "evalue": "name 'dg' is not defined",
     "output_type": "error",
     "traceback": [
      "\u001B[0;31m---------------------------------------------------------------------------\u001B[0m",
      "\u001B[0;31mNameError\u001B[0m                                 Traceback (most recent call last)",
      "Cell \u001B[0;32mIn[90], line 1\u001B[0m\n\u001B[0;32m----> 1\u001B[0m dg\n",
      "\u001B[0;31mNameError\u001B[0m: name 'dg' is not defined"
     ]
    }
   ],
   "source": [
    "dg"
   ]
  },
  {
   "cell_type": "code",
   "execution_count": null,
   "metadata": {},
   "outputs": [],
   "source": []
  }
 ],
 "metadata": {
  "kernelspec": {
   "display_name": "Python 3",
   "language": "python",
   "name": "python3"
  },
  "language_info": {
   "codemirror_mode": {
    "name": "ipython",
    "version": 3
   },
   "file_extension": ".py",
   "mimetype": "text/x-python",
   "name": "python",
   "nbconvert_exporter": "python",
   "pygments_lexer": "ipython3",
   "version": "3.9.6"
  }
 },
 "nbformat": 4,
 "nbformat_minor": 0
}
